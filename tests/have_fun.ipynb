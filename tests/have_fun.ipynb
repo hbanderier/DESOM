{
 "cells": [
  {
   "cell_type": "code",
   "execution_count": 8,
   "metadata": {},
   "outputs": [
    {
     "name": "stdout",
     "output_type": "stream",
     "text": [
      "The autoreload extension is already loaded. To reload it, use:\n",
      "  %reload_ext autoreload\n"
     ]
    }
   ],
   "source": [
    "from DESOM import DESOM\n",
    "from ConvDESOM import ConvDESOM\n",
    "from datasets import load_data\n",
    "import numpy as np\n",
    "%load_ext autoreload\n",
    "%autoreload 2\n",
    "\n",
    "import tensorflow as tf\n",
    "TF_CPP_MIN_VLOG_LEVEL=3.\n",
    "tf.get_logger().setLevel('ERROR')"
   ]
  },
  {
   "cell_type": "code",
   "execution_count": 2,
   "metadata": {},
   "outputs": [],
   "source": [
    "(X, Y), _ = load_data('fmnist', flatten=False)"
   ]
  },
  {
   "cell_type": "code",
   "execution_count": 3,
   "metadata": {},
   "outputs": [],
   "source": [
    "model = ConvDESOM(X.shape[1:], len(np.unique(Y)), [32, 64, 64], 3, 2, (10, 10))"
   ]
  },
  {
   "cell_type": "code",
   "execution_count": 4,
   "metadata": {},
   "outputs": [],
   "source": [
    "model.initialize()\n",
    "model.compile(0.001)\n",
    "# model.pretrain(X, epochs=2)\n",
    "model.load_ae_weights('results/tmp/ae_weights-epoch2.h5')"
   ]
  },
  {
   "cell_type": "code",
   "execution_count": 5,
   "metadata": {},
   "outputs": [
    {
     "name": "stdout",
     "output_type": "stream",
     "text": [
      "2188/2188 [==============================] - 5s 2ms/step\n"
     ]
    },
    {
     "name": "stderr",
     "output_type": "stream",
     "text": [
      "\u001b[32m2023-06-14 00:21:42.489\u001b[0m | \u001b[1mINFO    \u001b[0m | \u001b[36msimpsom.network\u001b[0m:\u001b[36m__init__\u001b[0m:\u001b[36m115\u001b[0m - \u001b[1mPeriodic Boundary Conditions active.\u001b[0m\n",
      "\u001b[32m2023-06-14 00:21:42.489\u001b[0m | \u001b[1mINFO    \u001b[0m | \u001b[36msimpsom.network\u001b[0m:\u001b[36m__init__\u001b[0m:\u001b[36m126\u001b[0m - \u001b[1mHexagonal topology.\u001b[0m\n",
      "\u001b[32m2023-06-14 00:21:42.490\u001b[0m | \u001b[1mINFO    \u001b[0m | \u001b[36msimpsom.network\u001b[0m:\u001b[36m_set_weights\u001b[0m:\u001b[36m210\u001b[0m - \u001b[1mThe weights will be initialized randomly.\u001b[0m\n",
      "\u001b[32m2023-06-14 00:21:42.492\u001b[0m | \u001b[1mINFO    \u001b[0m | \u001b[36msimpsom.network\u001b[0m:\u001b[36mtrain\u001b[0m:\u001b[36m361\u001b[0m - \u001b[1mThe map will be trained with the batch algorithm.\u001b[0m\n"
     ]
    }
   ],
   "source": [
    "model.init_som_weights(X, init='som')"
   ]
  },
  {
   "cell_type": "code",
   "execution_count": 12,
   "metadata": {},
   "outputs": [
    {
     "data": {
      "text/plain": [
       "[<keras.src.engine.input_layer.InputLayer at 0x17e3a1510>,\n",
       " <keras.src.layers.convolutional.conv2d.Conv2D at 0x17e68fa50>,\n",
       " <keras.src.layers.pooling.max_pooling2d.MaxPooling2D at 0x17e6e7290>,\n",
       " <keras.src.layers.convolutional.conv2d.Conv2D at 0x17e71b290>,\n",
       " <keras.src.layers.pooling.max_pooling2d.MaxPooling2D at 0x17e1c2950>,\n",
       " <keras.src.layers.convolutional.conv2d.Conv2D at 0x17e718f10>,\n",
       " <keras.src.layers.pooling.max_pooling2d.MaxPooling2D at 0x17e6e7d10>,\n",
       " <keras.src.layers.reshaping.flatten.Flatten at 0x17e71a610>,\n",
       " <keras.src.layers.core.dense.Dense at 0x17e76f890>,\n",
       " <keras.src.layers.core.dense.Dense at 0x17e6e6d50>,\n",
       " <keras.src.layers.reshaping.reshape.Reshape at 0x17e71ab10>,\n",
       " <keras.src.layers.convolutional.conv2d.Conv2D at 0x17e68e350>,\n",
       " <keras.src.layers.reshaping.up_sampling2d.UpSampling2D at 0x17e68ee10>,\n",
       " <keras.src.layers.convolutional.conv2d.Conv2D at 0x17e77f910>,\n",
       " <keras.src.layers.reshaping.up_sampling2d.UpSampling2D at 0x17e353710>,\n",
       " <keras.src.layers.convolutional.conv2d.Conv2D at 0x17e796e90>,\n",
       " <keras.src.layers.reshaping.up_sampling2d.UpSampling2D at 0x17e3a57d0>,\n",
       " <keras.src.layers.convolutional.conv2d.Conv2D at 0x17e5ccfd0>]"
      ]
     },
     "execution_count": 12,
     "metadata": {},
     "output_type": "execute_result"
    }
   ],
   "source": [
    "model.model.layers[:-1]"
   ]
  },
  {
   "cell_type": "code",
   "execution_count": 15,
   "metadata": {},
   "outputs": [
    {
     "name": "stdout",
     "output_type": "stream",
     "text": [
      "Save interval: 1365\n",
      "Initializing PerfLogger.\n",
      "iteration 0 - T=10.0\n",
      "[Train] - Lr=0.016413, Lsom=1.224242, L=0.017637\n",
      "Saved model to: results/tmp/DESOM_model_0.h5\n",
      "iteration 100 - T=6.306665540567405\n",
      "[Train] - Lr=0.016731, Lsom=1.164545, L=0.017895\n",
      "iteration 200 - T=3.977403024058035\n",
      "[Train] - Lr=0.017168, Lsom=0.736802, L=0.017905\n",
      "iteration 300 - T=2.50841505927754\n",
      "[Train] - Lr=0.015463, Lsom=0.500982, L=0.015964\n",
      "iteration 400 - T=1.5819734815786002\n",
      "[Train] - Lr=0.016501, Lsom=0.215148, L=0.016716\n",
      "iteration 500 - T=0.9976977642363201\n",
      "[Train] - Lr=0.014198, Lsom=0.082247, L=0.014280\n",
      "iteration 600 - T=0.6292146109610344\n",
      "[Train] - Lr=0.014131, Lsom=0.034188, L=0.014166\n",
      "iteration 700 - T=0.39682461045694817\n",
      "[Train] - Lr=0.014845, Lsom=0.012887, L=0.014858\n",
      "iteration 800 - T=0.2502640096417918\n",
      "[Train] - Lr=0.015256, Lsom=0.011200, L=0.015267\n",
      "iteration 900 - T=0.15783314056521172\n",
      "[Train] - Lr=0.015155, Lsom=0.010015, L=0.015165\n",
      "Saving final model to: results/tmp/DESOM_model_final.h5\n",
      "Evaluate model on training and/or validation datasets\n",
      "Evaluating combined_error_val...\n"
     ]
    },
    {
     "ename": "ValueError",
     "evalue": "If distance matrix d is not given, x cannot be None!",
     "output_type": "error",
     "traceback": [
      "\u001b[0;31m---------------------------------------------------------------------------\u001b[0m",
      "\u001b[0;31mValueError\u001b[0m                                Traceback (most recent call last)",
      "Cell \u001b[0;32mIn[15], line 1\u001b[0m\n\u001b[0;32m----> 1\u001b[0m model\u001b[39m.\u001b[39;49mfit(X, verbose\u001b[39m=\u001b[39;49m\u001b[39m1\u001b[39;49m, iterations\u001b[39m=\u001b[39;49m\u001b[39m1000\u001b[39;49m, update_interval\u001b[39m=\u001b[39;49m\u001b[39m10\u001b[39;49m, eval_interval\u001b[39m=\u001b[39;49m\u001b[39m100\u001b[39;49m)\n",
      "File \u001b[0;32m~/Library/CloudStorage/OneDrive-UniversitaetBern/Documents/GIUB/code/DESOM/DESOM.py:552\u001b[0m, in \u001b[0;36mDESOM.fit\u001b[0;34m(self, X_train, y_train, X_val, y_val, iterations, update_interval, eval_interval, save_epochs, batch_size, Tmax, Tmin, decay, save_dir, verbose)\u001b[0m\n\u001b[1;32m    526\u001b[0m     d_original_val \u001b[39m=\u001b[39m np\u001b[39m.\u001b[39msquare(\n\u001b[1;32m    527\u001b[0m         (\n\u001b[1;32m    528\u001b[0m             np\u001b[39m.\u001b[39mexpand_dims(X_val\u001b[39m.\u001b[39mreshape(X_val\u001b[39m.\u001b[39mshape[\u001b[39m0\u001b[39m], \u001b[39m-\u001b[39m\u001b[39m1\u001b[39m), axis\u001b[39m=\u001b[39m\u001b[39m1\u001b[39m)\n\u001b[1;32m    529\u001b[0m             \u001b[39m-\u001b[39m decoded_prototypes\n\u001b[1;32m    530\u001b[0m         )\n\u001b[1;32m    531\u001b[0m     )\u001b[39m.\u001b[39msum(axis\u001b[39m=\u001b[39m\u001b[39m2\u001b[39m)\n\u001b[1;32m    533\u001b[0m final_summary \u001b[39m=\u001b[39m {\n\u001b[1;32m    534\u001b[0m     \u001b[39m\"\u001b[39m\u001b[39mmap_size\u001b[39m\u001b[39m\"\u001b[39m: \u001b[39mself\u001b[39m\u001b[39m.\u001b[39mmap_size,\n\u001b[1;32m    535\u001b[0m     \u001b[39m\"\u001b[39m\u001b[39mtopological_distances\u001b[39m\u001b[39m\"\u001b[39m: \u001b[39mself\u001b[39m\u001b[39m.\u001b[39mneighborhood\u001b[39m.\u001b[39mdistances,\n\u001b[0;32m   (...)\u001b[0m\n\u001b[1;32m    550\u001b[0m     \u001b[39m\"\u001b[39m\u001b[39my_val_pred\u001b[39m\u001b[39m\"\u001b[39m: y_val_pred \u001b[39mif\u001b[39;00m X_val \u001b[39mis\u001b[39;00m \u001b[39mnot\u001b[39;00m \u001b[39mNone\u001b[39;00m \u001b[39melse\u001b[39;00m \u001b[39mNone\u001b[39;00m,\n\u001b[1;32m    551\u001b[0m }\n\u001b[0;32m--> 552\u001b[0m perflogger\u001b[39m.\u001b[39;49mevaluate(final_summary, verbose\u001b[39m=\u001b[39;49mverbose)\n\u001b[1;32m    553\u001b[0m perflogger\u001b[39m.\u001b[39mclose()\n",
      "File \u001b[0;32m~/Library/CloudStorage/OneDrive-UniversitaetBern/Documents/GIUB/code/DESOM/evaluation.py:182\u001b[0m, in \u001b[0;36mPerfLogger.evaluate\u001b[0;34m(self, summary, verbose)\u001b[0m\n\u001b[1;32m    169\u001b[0m \u001b[39mdef\u001b[39;00m \u001b[39mevaluate\u001b[39m(\u001b[39mself\u001b[39m, summary, verbose\u001b[39m=\u001b[39m\u001b[39m0\u001b[39m):\n\u001b[1;32m    170\u001b[0m \u001b[39m    \u001b[39m\u001b[39m\"\"\"Save evaluation metrics.\u001b[39;00m\n\u001b[1;32m    171\u001b[0m \n\u001b[1;32m    172\u001b[0m \u001b[39m    Parameters\u001b[39;00m\n\u001b[0;32m   (...)\u001b[0m\n\u001b[1;32m    179\u001b[0m \u001b[39m        1 = print all evaluated metrics\u001b[39;00m\n\u001b[1;32m    180\u001b[0m \u001b[39m    \"\"\"\u001b[39;00m\n\u001b[0;32m--> 182\u001b[0m     results \u001b[39m=\u001b[39m \u001b[39mself\u001b[39;49m\u001b[39m.\u001b[39;49m_compute_metrics(summary, \u001b[39mself\u001b[39;49m\u001b[39m.\u001b[39;49mevaluation_metrics, verbose\u001b[39m=\u001b[39;49m\u001b[39mTrue\u001b[39;49;00m)\n\u001b[1;32m    184\u001b[0m     \u001b[39mif\u001b[39;00m verbose \u001b[39m>\u001b[39m \u001b[39m0\u001b[39m:\n\u001b[1;32m    185\u001b[0m         \u001b[39mprint\u001b[39m(\n\u001b[1;32m    186\u001b[0m             \u001b[39m\"\u001b[39m\u001b[39m, \u001b[39m\u001b[39m\"\u001b[39m\u001b[39m.\u001b[39mjoin(\n\u001b[1;32m    187\u001b[0m                 [\n\u001b[0;32m   (...)\u001b[0m\n\u001b[1;32m    191\u001b[0m             )\n\u001b[1;32m    192\u001b[0m         )\n",
      "File \u001b[0;32m~/Library/CloudStorage/OneDrive-UniversitaetBern/Documents/GIUB/code/DESOM/evaluation.py:255\u001b[0m, in \u001b[0;36mPerfLogger._compute_metrics\u001b[0;34m(summary, metrics, verbose)\u001b[0m\n\u001b[1;32m    253\u001b[0m     \u001b[39mif\u001b[39;00m verbose:\n\u001b[1;32m    254\u001b[0m         \u001b[39mprint\u001b[39m(\u001b[39m\"\u001b[39m\u001b[39mEvaluating combined_error_val...\u001b[39m\u001b[39m\"\u001b[39m)\n\u001b[0;32m--> 255\u001b[0m     results[\u001b[39m\"\u001b[39m\u001b[39mcombined_error_val\u001b[39m\u001b[39m\"\u001b[39m] \u001b[39m=\u001b[39m combined_error(\n\u001b[1;32m    256\u001b[0m         topo_dist, som\u001b[39m=\u001b[39;49msummary[\u001b[39m\"\u001b[39;49m\u001b[39mprototypes\u001b[39;49m\u001b[39m\"\u001b[39;49m], d\u001b[39m=\u001b[39;49msummary[\u001b[39m\"\u001b[39;49m\u001b[39md_original_val\u001b[39;49m\u001b[39m\"\u001b[39;49m]\n\u001b[1;32m    257\u001b[0m     )\n\u001b[1;32m    258\u001b[0m \u001b[39mif\u001b[39;00m \u001b[39m\"\u001b[39m\u001b[39mlatent_combined_error_val\u001b[39m\u001b[39m\"\u001b[39m \u001b[39min\u001b[39;00m metrics:\n\u001b[1;32m    259\u001b[0m     \u001b[39mif\u001b[39;00m verbose:\n",
      "File \u001b[0;32m~/Library/CloudStorage/OneDrive-UniversitaetBern/Documents/GIUB/code/SOMperf/somperf/metrics/internal.py:88\u001b[0m, in \u001b[0;36mcombined_error\u001b[0;34m(precomputed_distances, som, x, d)\u001b[0m\n\u001b[1;32m     86\u001b[0m \u001b[39mif\u001b[39;00m d \u001b[39mis\u001b[39;00m \u001b[39mNone\u001b[39;00m:\n\u001b[1;32m     87\u001b[0m     \u001b[39mif\u001b[39;00m x \u001b[39mis\u001b[39;00m \u001b[39mNone\u001b[39;00m:\n\u001b[0;32m---> 88\u001b[0m         \u001b[39mraise\u001b[39;00m \u001b[39mValueError\u001b[39;00m(\u001b[39m\"\u001b[39m\u001b[39mIf distance matrix d is not given, x cannot be None!\u001b[39m\u001b[39m\"\u001b[39m)\n\u001b[1;32m     89\u001b[0m     \u001b[39melse\u001b[39;00m:\n\u001b[1;32m     90\u001b[0m         d \u001b[39m=\u001b[39m euclidean_distances(x, som)\n",
      "\u001b[0;31mValueError\u001b[0m: If distance matrix d is not given, x cannot be None!"
     ]
    }
   ],
   "source": [
    "model.fit(X, verbose=1, iterations=1000, update_interval=10, eval_interval=100)"
   ]
  },
  {
   "cell_type": "code",
   "execution_count": null,
   "metadata": {},
   "outputs": [],
   "source": []
  }
 ],
 "metadata": {
  "kernelspec": {
   "display_name": "env",
   "language": "python",
   "name": "python3"
  },
  "language_info": {
   "codemirror_mode": {
    "name": "ipython",
    "version": 3
   },
   "file_extension": ".py",
   "mimetype": "text/x-python",
   "name": "python",
   "nbconvert_exporter": "python",
   "pygments_lexer": "ipython3",
   "version": "3.11.3"
  },
  "orig_nbformat": 4
 },
 "nbformat": 4,
 "nbformat_minor": 2
}
